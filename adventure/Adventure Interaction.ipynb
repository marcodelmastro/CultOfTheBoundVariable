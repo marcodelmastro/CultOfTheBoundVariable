{
 "cells": [
  {
   "cell_type": "code",
   "execution_count": 183,
   "id": "beneficial-conversation",
   "metadata": {},
   "outputs": [
    {
     "name": "stdout",
     "output_type": "stream",
     "text": [
      "Welcome to the Cult of Bound Variable\n",
      "Loading state from adventure-begin.sav ... loaded.\n",
      "Type a UMIX command to continue...\n",
      "\n",
      "Moving to Chicago...\n",
      "You are carrying:\n",
      "a (broken) USB cable,\n",
      "a (broken) eggplant T-9887-OFC,\n",
      "a (broken) uploader,\n",
      "a (broken) downloader and\n",
      "a manifesto.\n",
      "\n",
      "\n"
     ]
    }
   ],
   "source": [
    "from COTBVutils import InteractiveProcess\n",
    "\n",
    "process = \"pypy3 ../um.py ../umz/dump.um -i adventure-begin.sav -o adventure-save.sav\"\n",
    "\n",
    "p = InteractiveProcess(process,8) # use a sufficiently long time delay to allow memory loading\n",
    "print(p.read_output())\n",
    "\n",
    "print(\"Moving to Chicago...\")\n",
    "\n",
    "with open(\"commands.ins\") as f:\n",
    "    for l in f.readlines():\n",
    "        a = p.send_command(l.strip(\"\\n\"),0.2)\n",
    "\n",
    "print(a.strip(\">: \"))"
   ]
  },
  {
   "cell_type": "code",
   "execution_count": 170,
   "id": "broadband-spank",
   "metadata": {},
   "outputs": [
    {
     "name": "stdout",
     "output_type": "stream",
     "text": [
      "The USB cable is compatible with all high-speed Universal Sand\n",
      "Bus 2.0 devices. \n",
      "Also, it is broken: it is ((a USB cable missing (a T-9887-OFC\n",
      "missing a X-6458-TIJ)) missing a F-6678-DOX) missing a\n",
      "N-4832-NUN. \n",
      "\n",
      "\n"
     ]
    }
   ],
   "source": [
    "a = p.send_command(\"look usb cable\",0.2)\n",
    "print(a.strip(\">: \"))"
   ]
  },
  {
   "cell_type": "code",
   "execution_count": 184,
   "id": "valued-gasoline",
   "metadata": {},
   "outputs": [
    {
     "name": "stdout",
     "output_type": "stream",
     "text": [
      "54th Street and Dorchester Avenue\n",
      "\n",
      "You are standing at the corner of 54th Street and Dorchester\n",
      "Avenue. From here, you can go north, east, south, or west. \n",
      "There is a sienna N-4832-NUN here. \n",
      "Underneath the N-4832-NUN, there is a slate-gray J-9247-IRG. \n",
      "Underneath the J-9247-IRG, there is a dim-gray B-5065-YLQ. \n",
      "\n",
      "\n"
     ]
    }
   ],
   "source": [
    "a = p.send_command(\"look\",0.2)\n",
    "print(a.strip(\">: \"))"
   ]
  },
  {
   "cell_type": "code",
   "execution_count": 185,
   "id": "narrow-journal",
   "metadata": {},
   "outputs": [
    {
     "name": "stdout",
     "output_type": "stream",
     "text": [
      "<success>\n",
      "  <command>\n",
      "    <look>\n",
      "      <room>\n",
      "        <name>\n",
      "          54th Street and Dorchester Avenue\n",
      "        </name>\n",
      "        <description>\n",
      "          You are standing at the corner of 54th Street and Dorchester Avenue. From here, you can go north, east, south, or west. \n",
      "        </description>\n",
      "        <items>\n",
      "          <item>\n",
      "            <name>\n",
      "              N-4832-NUN\n",
      "            </name>\n",
      "            <description>\n",
      "              an exemplary instance of part number N-4832-NUN\n",
      "            </description>\n",
      "            <adjectives>\n",
      "              <adjective>\n",
      "                sienna\n",
      "              </adjective>\n",
      "            </adjectives>\n",
      "            <condition>\n",
      "              <pristine>\n",
      "              </pristine>\n",
      "            </condition>\n",
      "            <piled_on>\n",
      "              <item>\n",
      "                <name>\n",
      "                  J-9247-IRG\n",
      "                </name>\n",
      "                <description>\n",
      "                  an exemplary instance of part number J-9247-IRG\n",
      "                </description>\n",
      "                <adjectives>\n",
      "                  <adjective>\n",
      "                    slate-gray\n",
      "                  </adjective>\n",
      "                </adjectives>\n",
      "                <condition>\n",
      "                  <pristine>\n",
      "                  </pristine>\n",
      "                </condition>\n",
      "                <piled_on>\n",
      "                  <item>\n",
      "                    <name>\n",
      "                      B-5065-YLQ\n",
      "                    </name>\n",
      "                    <description>\n",
      "                      an exemplary instance of part number B-5065-YLQ\n",
      "                    </description>\n",
      "                    <adjectives>\n",
      "                      <adjective>\n",
      "                        dim-gray\n",
      "                      </adjective>\n",
      "                    </adjectives>\n",
      "                    <condition>\n",
      "                      <pristine>\n",
      "                      </pristine>\n",
      "                    </condition>\n",
      "                    <piled_on>\n",
      "                    </piled_on>\n",
      "                  </item>\n",
      "                </piled_on>\n",
      "              </item>\n",
      "            </piled_on>\n",
      "          </item>\n",
      "        </items>\n",
      "      </room>\n",
      "    </look>\n",
      "  </command>\n",
      "</success>\n",
      "\n"
     ]
    }
   ],
   "source": [
    "a = p.send_command(\"sw xml\",0.2)\n",
    "a = p.send_command(\"look\",2)\n",
    "print(a)"
   ]
  },
  {
   "cell_type": "code",
   "execution_count": 186,
   "id": "upper-vocabulary",
   "metadata": {},
   "outputs": [
    {
     "data": {
      "text/plain": [
       "('54th Street and Dorchester Avenue',\n",
       " 'You are standing at the corner of 54th Street and Dorchester Avenue. From here, you can go north, east, south, or west.',\n",
       " ['north', 'east', 'south', 'west'])"
      ]
     },
     "execution_count": 186,
     "metadata": {},
     "output_type": "execute_result"
    }
   ],
   "source": [
    "import xml.etree.ElementTree as ET\n",
    "\n",
    "def getDirections(a):\n",
    "    tree = ET.fromstring(a)\n",
    "    name = \"\"\n",
    "    desc = \"\"\n",
    "    for r in tree.iter('room'):\n",
    "        name = r.find('name').text.strip(\"\\n        \")\n",
    "        desc = r.find('description').text.strip(\"\\n        \")\n",
    "    dirs = desc.split(name)[1].replace('. From here, you can go ',\"\").replace(', or',\",\").replace(\".\",\"\").split(\", \")\n",
    "    return name, desc, dirs\n",
    "\n",
    "a = p.send_command(\"sw xml\",0.2)\n",
    "a = p.send_command(\"look\",2)\n",
    "getDirections(a)"
   ]
  },
  {
   "cell_type": "code",
   "execution_count": null,
   "id": "civic-albuquerque",
   "metadata": {},
   "outputs": [],
   "source": []
  }
 ],
 "metadata": {
  "kernelspec": {
   "display_name": "Python 3",
   "language": "python",
   "name": "python3"
  },
  "language_info": {
   "codemirror_mode": {
    "name": "ipython",
    "version": 3
   },
   "file_extension": ".py",
   "mimetype": "text/x-python",
   "name": "python",
   "nbconvert_exporter": "python",
   "pygments_lexer": "ipython3",
   "version": "3.9.7"
  }
 },
 "nbformat": 4,
 "nbformat_minor": 5
}
