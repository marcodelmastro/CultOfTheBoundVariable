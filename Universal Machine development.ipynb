{
 "cells": [
  {
   "cell_type": "code",
   "execution_count": 34,
   "id": "inclusive-idaho",
   "metadata": {},
   "outputs": [
    {
     "name": "stdout",
     "output_type": "stream",
     "text": [
      "14091\n",
      "134217936\n"
     ]
    }
   ],
   "source": [
    "# Read and unpack UMZ files\n",
    "# https://docs.python.org/3/library/struct.html\n",
    "import struct\n",
    "\n",
    "infile = \"umz/sandmark.umz\"\n",
    "\n",
    "program = []\n",
    "with open(infile, mode='rb') as file:\n",
    "    part = file.read(4)\n",
    "    while part:\n",
    "        program.append(struct.unpack('>L', part)[0])\n",
    "        part = file.read(4)\n",
    "        \n",
    "print(len(program))\n",
    "print(program[0])"
   ]
  },
  {
   "cell_type": "code",
   "execution_count": 39,
   "id": "finished-result",
   "metadata": {},
   "outputs": [
    {
     "name": "stdout",
     "output_type": "stream",
     "text": [
      "0 3 2 0\n"
     ]
    }
   ],
   "source": [
    "# decode standard instruction\n",
    "\n",
    "p = program[0]     \n",
    "\n",
    "op = p >> (32-4)\n",
    "a = (p & 0b111000000) >> 6\n",
    "b = (p & 0b000111000) >> 3\n",
    "c = (p & 0b000000111) >> 0\n",
    "\n",
    "print(op,a,b,c)"
   ]
  },
  {
   "cell_type": "code",
   "execution_count": 46,
   "id": "respective-cricket",
   "metadata": {},
   "outputs": [
    {
     "name": "stdout",
     "output_type": "stream",
     "text": [
      "13 1 20\n"
     ]
    }
   ],
   "source": [
    "# decode orthography instruction (op == 13)\n",
    "\n",
    "p = program[0]\n",
    "for p in program:\n",
    "    op = p >> (32-4)\n",
    "    if op==13:\n",
    "        break\n",
    "        \n",
    "a = p >> (32-4-3) & 0b111\n",
    "value = p & 0b0s0000001111111111111111111111111           \n",
    "\n",
    "print(op,a,value)"
   ]
  },
  {
   "cell_type": "code",
   "execution_count": null,
   "id": "identified-memory",
   "metadata": {},
   "outputs": [],
   "source": []
  }
 ],
 "metadata": {
  "kernelspec": {
   "display_name": "Python 3",
   "language": "python",
   "name": "python3"
  },
  "language_info": {
   "codemirror_mode": {
    "name": "ipython",
    "version": 3
   },
   "file_extension": ".py",
   "mimetype": "text/x-python",
   "name": "python",
   "nbconvert_exporter": "python",
   "pygments_lexer": "ipython3",
   "version": "3.9.7"
  }
 },
 "nbformat": 4,
 "nbformat_minor": 5
}
